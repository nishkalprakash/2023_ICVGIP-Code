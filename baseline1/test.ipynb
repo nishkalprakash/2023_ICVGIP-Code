{
 "cells": [
  {
   "attachments": {},
   "cell_type": "markdown",
   "metadata": {},
   "source": [
    "- load a fp img\n",
    "- extract minutiae using any method\n",
    "- create de..... triangles\n",
    "- get dataframe from del.... triangles"
   ]
  },
  {
   "cell_type": "code",
   "execution_count": null,
   "metadata": {},
   "outputs": [],
   "source": [
    "# Call a class with the name load fingerprint data\n",
    "from lib.utils import loadFingerprintData\n",
    "\n",
    "# Call the function load fingerprint data with the parameters\n"
   ]
  }
 ],
 "metadata": {
  "language_info": {
   "name": "python"
  },
  "orig_nbformat": 4
 },
 "nbformat": 4,
 "nbformat_minor": 2
}
